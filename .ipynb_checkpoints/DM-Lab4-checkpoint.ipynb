{
 "cells": [
  {
   "cell_type": "code",
   "execution_count": 1,
   "id": "9521d7c3",
   "metadata": {},
   "outputs": [],
   "source": [
    "import numpy as np\n",
    "import matplotlib.pyplot as plt\n",
    "import pandas as pd\n",
    "from pandas.api.types import is_numeric_dtype\n",
    "from sklearn import preprocessing\n",
    "from sklearn import tree\n",
    "from sklearn.neighbors import KNeighborsClassifier\n",
    "from sklearn.preprocessing import MinMaxScaler\n",
    "import pydotplus \n",
    "import io\n",
    "from IPython.display import Image\n",
    "from sklearn.model_selection import train_test_split, cross_val_score\n",
    "from sklearn.metrics import accuracy_score, f1_score, precision_score\n",
    "import matplotlib.pyplot as pl\n",
    "#Scale large numbers from 0=1\n",
    "#predict the class\n",
    "#"
   ]
  },
  {
   "cell_type": "code",
   "execution_count": 2,
   "id": "2c119764",
   "metadata": {},
   "outputs": [],
   "source": [
    "german = pd.read_csv('german.data', header=None, sep = ' ')\n",
    "wave = pd.read_csv('waveform.data')"
   ]
  },
  {
   "cell_type": "code",
   "execution_count": 3,
   "id": "ae9b26d7",
   "metadata": {},
   "outputs": [],
   "source": [
    "german.columns = [\"Status of existing checking account\",\n",
    "                \"Duration in month\",\n",
    "                \"Credit history\",\n",
    "                \"Purpose\",\n",
    "                \"Credit amount\",\n",
    "                \"Savings account/bonds\",\n",
    "                \"Present employment since\",\n",
    "                \"Installment rate in percentage of disposable income\",\n",
    "                \"Personal status and sex\",\n",
    "                \"Other debtors / guarantors\",\n",
    "                \"Present residence since\",\n",
    "                \"Property\",\n",
    "                \"Age in years\",\n",
    "                \"Other installment plans\",\n",
    "                \"Housing\",\n",
    "                \"Number of existing credits at this bank\",\n",
    "                \"Job\",\n",
    "                \"Number of people being liable to provide maintenance for\",\n",
    "                \"Telephone\",\n",
    "                \"Foreign Worker\",\n",
    "                \"Class\"\n",
    "               ]"
   ]
  },
  {
   "cell_type": "code",
   "execution_count": 4,
   "id": "85e126fb",
   "metadata": {},
   "outputs": [],
   "source": [
    "wave.columns = [\"1\",\n",
    "                \"2\",\n",
    "                \"3\",\n",
    "                \"4\",\n",
    "                \"5\",\n",
    "                \"6\",\n",
    "                \"7\",\n",
    "                \"8\",\n",
    "                \"9\",\n",
    "                \"10\",\n",
    "                \"11\",\n",
    "                \"12\",\n",
    "                \"13\",\n",
    "                \"14\",\n",
    "                \"15\",\n",
    "                \"16\",\n",
    "                \"17\",\n",
    "                \"18\",\n",
    "                \"19\",\n",
    "                \"20\",\n",
    "                \"21\",\n",
    "                \"Class\"\n",
    "               ]"
   ]
  },
  {
   "cell_type": "code",
   "execution_count": 5,
   "id": "56760c9e",
   "metadata": {},
   "outputs": [],
   "source": [
    "le = preprocessing.LabelEncoder()\n",
    "for col in german.columns:\n",
    "    if is_numeric_dtype(german[col]) == False:\n",
    "        le.fit(german[col])\n",
    "        german[col] = le.transform(german[col])"
   ]
  },
  {
   "cell_type": "code",
   "execution_count": 6,
   "id": "4f6a2336",
   "metadata": {},
   "outputs": [
    {
     "data": {
      "text/html": [
       "<div>\n",
       "<style scoped>\n",
       "    .dataframe tbody tr th:only-of-type {\n",
       "        vertical-align: middle;\n",
       "    }\n",
       "\n",
       "    .dataframe tbody tr th {\n",
       "        vertical-align: top;\n",
       "    }\n",
       "\n",
       "    .dataframe thead th {\n",
       "        text-align: right;\n",
       "    }\n",
       "</style>\n",
       "<table border=\"1\" class=\"dataframe\">\n",
       "  <thead>\n",
       "    <tr style=\"text-align: right;\">\n",
       "      <th></th>\n",
       "      <th>Status of existing checking account</th>\n",
       "      <th>Duration in month</th>\n",
       "      <th>Credit history</th>\n",
       "      <th>Purpose</th>\n",
       "      <th>Credit amount</th>\n",
       "      <th>Savings account/bonds</th>\n",
       "      <th>Present employment since</th>\n",
       "      <th>Installment rate in percentage of disposable income</th>\n",
       "      <th>Personal status and sex</th>\n",
       "      <th>Other debtors / guarantors</th>\n",
       "      <th>...</th>\n",
       "      <th>Property</th>\n",
       "      <th>Age in years</th>\n",
       "      <th>Other installment plans</th>\n",
       "      <th>Housing</th>\n",
       "      <th>Number of existing credits at this bank</th>\n",
       "      <th>Job</th>\n",
       "      <th>Number of people being liable to provide maintenance for</th>\n",
       "      <th>Telephone</th>\n",
       "      <th>Foreign Worker</th>\n",
       "      <th>Class</th>\n",
       "    </tr>\n",
       "  </thead>\n",
       "  <tbody>\n",
       "    <tr>\n",
       "      <th>0</th>\n",
       "      <td>0</td>\n",
       "      <td>6</td>\n",
       "      <td>4</td>\n",
       "      <td>4</td>\n",
       "      <td>0.050567</td>\n",
       "      <td>4</td>\n",
       "      <td>4</td>\n",
       "      <td>4</td>\n",
       "      <td>2</td>\n",
       "      <td>0</td>\n",
       "      <td>...</td>\n",
       "      <td>0</td>\n",
       "      <td>67</td>\n",
       "      <td>2</td>\n",
       "      <td>1</td>\n",
       "      <td>2</td>\n",
       "      <td>2</td>\n",
       "      <td>1</td>\n",
       "      <td>1</td>\n",
       "      <td>0</td>\n",
       "      <td>1</td>\n",
       "    </tr>\n",
       "    <tr>\n",
       "      <th>1</th>\n",
       "      <td>1</td>\n",
       "      <td>48</td>\n",
       "      <td>2</td>\n",
       "      <td>4</td>\n",
       "      <td>0.313690</td>\n",
       "      <td>0</td>\n",
       "      <td>2</td>\n",
       "      <td>2</td>\n",
       "      <td>1</td>\n",
       "      <td>0</td>\n",
       "      <td>...</td>\n",
       "      <td>0</td>\n",
       "      <td>22</td>\n",
       "      <td>2</td>\n",
       "      <td>1</td>\n",
       "      <td>1</td>\n",
       "      <td>2</td>\n",
       "      <td>1</td>\n",
       "      <td>0</td>\n",
       "      <td>0</td>\n",
       "      <td>2</td>\n",
       "    </tr>\n",
       "    <tr>\n",
       "      <th>2</th>\n",
       "      <td>3</td>\n",
       "      <td>12</td>\n",
       "      <td>4</td>\n",
       "      <td>7</td>\n",
       "      <td>0.101574</td>\n",
       "      <td>0</td>\n",
       "      <td>3</td>\n",
       "      <td>2</td>\n",
       "      <td>2</td>\n",
       "      <td>0</td>\n",
       "      <td>...</td>\n",
       "      <td>0</td>\n",
       "      <td>49</td>\n",
       "      <td>2</td>\n",
       "      <td>1</td>\n",
       "      <td>1</td>\n",
       "      <td>1</td>\n",
       "      <td>2</td>\n",
       "      <td>0</td>\n",
       "      <td>0</td>\n",
       "      <td>1</td>\n",
       "    </tr>\n",
       "    <tr>\n",
       "      <th>3</th>\n",
       "      <td>0</td>\n",
       "      <td>42</td>\n",
       "      <td>2</td>\n",
       "      <td>3</td>\n",
       "      <td>0.419941</td>\n",
       "      <td>0</td>\n",
       "      <td>3</td>\n",
       "      <td>2</td>\n",
       "      <td>2</td>\n",
       "      <td>2</td>\n",
       "      <td>...</td>\n",
       "      <td>1</td>\n",
       "      <td>45</td>\n",
       "      <td>2</td>\n",
       "      <td>2</td>\n",
       "      <td>1</td>\n",
       "      <td>2</td>\n",
       "      <td>2</td>\n",
       "      <td>0</td>\n",
       "      <td>0</td>\n",
       "      <td>1</td>\n",
       "    </tr>\n",
       "    <tr>\n",
       "      <th>4</th>\n",
       "      <td>0</td>\n",
       "      <td>24</td>\n",
       "      <td>3</td>\n",
       "      <td>0</td>\n",
       "      <td>0.254209</td>\n",
       "      <td>0</td>\n",
       "      <td>2</td>\n",
       "      <td>3</td>\n",
       "      <td>2</td>\n",
       "      <td>0</td>\n",
       "      <td>...</td>\n",
       "      <td>3</td>\n",
       "      <td>53</td>\n",
       "      <td>2</td>\n",
       "      <td>2</td>\n",
       "      <td>2</td>\n",
       "      <td>2</td>\n",
       "      <td>2</td>\n",
       "      <td>0</td>\n",
       "      <td>0</td>\n",
       "      <td>2</td>\n",
       "    </tr>\n",
       "  </tbody>\n",
       "</table>\n",
       "<p>5 rows × 21 columns</p>\n",
       "</div>"
      ],
      "text/plain": [
       "   Status of existing checking account  Duration in month  Credit history  \\\n",
       "0                                    0                  6               4   \n",
       "1                                    1                 48               2   \n",
       "2                                    3                 12               4   \n",
       "3                                    0                 42               2   \n",
       "4                                    0                 24               3   \n",
       "\n",
       "   Purpose  Credit amount  Savings account/bonds  Present employment since  \\\n",
       "0        4       0.050567                      4                         4   \n",
       "1        4       0.313690                      0                         2   \n",
       "2        7       0.101574                      0                         3   \n",
       "3        3       0.419941                      0                         3   \n",
       "4        0       0.254209                      0                         2   \n",
       "\n",
       "   Installment rate in percentage of disposable income  \\\n",
       "0                                                  4     \n",
       "1                                                  2     \n",
       "2                                                  2     \n",
       "3                                                  2     \n",
       "4                                                  3     \n",
       "\n",
       "   Personal status and sex  Other debtors / guarantors  ...  Property  \\\n",
       "0                        2                           0  ...         0   \n",
       "1                        1                           0  ...         0   \n",
       "2                        2                           0  ...         0   \n",
       "3                        2                           2  ...         1   \n",
       "4                        2                           0  ...         3   \n",
       "\n",
       "   Age in years  Other installment plans  Housing  \\\n",
       "0            67                        2        1   \n",
       "1            22                        2        1   \n",
       "2            49                        2        1   \n",
       "3            45                        2        2   \n",
       "4            53                        2        2   \n",
       "\n",
       "   Number of existing credits at this bank  Job  \\\n",
       "0                                        2    2   \n",
       "1                                        1    2   \n",
       "2                                        1    1   \n",
       "3                                        1    2   \n",
       "4                                        2    2   \n",
       "\n",
       "   Number of people being liable to provide maintenance for  Telephone  \\\n",
       "0                                                  1                 1   \n",
       "1                                                  1                 0   \n",
       "2                                                  2                 0   \n",
       "3                                                  2                 0   \n",
       "4                                                  2                 0   \n",
       "\n",
       "   Foreign Worker  Class  \n",
       "0               0      1  \n",
       "1               0      2  \n",
       "2               0      1  \n",
       "3               0      1  \n",
       "4               0      2  \n",
       "\n",
       "[5 rows x 21 columns]"
      ]
     },
     "execution_count": 6,
     "metadata": {},
     "output_type": "execute_result"
    }
   ],
   "source": [
    "#normalize the Credit Amount\n",
    "german['Credit amount'] = MinMaxScaler().fit_transform(np.array(german['Credit amount']).reshape(-1,1))\n",
    "german.head()"
   ]
  },
  {
   "cell_type": "code",
   "execution_count": 7,
   "id": "abf2b8a2",
   "metadata": {},
   "outputs": [],
   "source": [
    "Y = german['Class']\n",
    "X = german.drop(['Class'],axis=1)"
   ]
  },
  {
   "cell_type": "code",
   "execution_count": 8,
   "id": "ec3777fe",
   "metadata": {},
   "outputs": [],
   "source": [
    "Ywave = wave['Class']\n",
    "Xwave = wave.drop(['Class'],axis=1)"
   ]
  },
  {
   "cell_type": "markdown",
   "id": "cc02c682",
   "metadata": {},
   "source": [
    "## Knn with n = 5 Minkowski Metrics"
   ]
  },
  {
   "cell_type": "code",
   "execution_count": 9,
   "id": "e00f8171",
   "metadata": {},
   "outputs": [],
   "source": [
    "testAcc = []\n",
    "testf = []\n",
    "testp = []\n",
    "\n",
    "testAccwave = []\n",
    "testfwave = []\n",
    "testpwave = []\n",
    "\n",
    "for i in range(5):\n",
    "    X_train, X_test, Y_train, Y_test = train_test_split(X, Y, test_size=0.1)\n",
    "    Xwave_train, Xwave_test, Ywave_train, Ywave_test = train_test_split(Xwave, Ywave, test_size=0.1)\n",
    "    \n",
    "    clf = KNeighborsClassifier(n_neighbors=5, metric='minkowski', p=2)\n",
    "    clf.fit(X_train, Y_train)\n",
    "    \n",
    "    clfwave = KNeighborsClassifier(n_neighbors=5, metric='minkowski', p=2)\n",
    "    clfwave.fit(Xwave_train, Ywave_train)\n",
    "    \n",
    "    Y_predTest = clf.predict(X_test)\n",
    "    Ywave_predTest = clfwave.predict(Xwave_test)\n",
    "    \n",
    "    testAcc.append(accuracy_score(Y_test, Y_predTest))\n",
    "    testf.append(f1_score(Y_test, Y_predTest, average='weighted'))\n",
    "    testp.append(precision_score(Y_test, Y_predTest,average= 'weighted'))\n",
    "    \n",
    "    testAccwave.append(accuracy_score(Ywave_test, Ywave_predTest))\n",
    "    testfwave.append(f1_score(Ywave_test, Ywave_predTest, average='weighted'))\n",
    "    testpwave.append(precision_score(Ywave_test, Ywave_predTest,average= 'weighted'))"
   ]
  },
  {
   "cell_type": "markdown",
   "id": "fa2e94ff",
   "metadata": {},
   "source": [
    "## Default Parameters "
   ]
  },
  {
   "cell_type": "code",
   "execution_count": 11,
   "id": "775f40a8",
   "metadata": {},
   "outputs": [],
   "source": [
    "from sklearn import tree\n",
    "from sklearn.model_selection import train_test_split, cross_val_score\n",
    "from sklearn.metrics import accuracy_score, f1_score, precision_score\n",
    "#Need both sets\n",
    "#Hold Out\n",
    "testAccd = []\n",
    "testfd = []\n",
    "testpd = []\n",
    "\n",
    "testAccwaved = []\n",
    "testfwaved = []\n",
    "testpwaved = []\n",
    "\n",
    "\n",
    "for i in range(5):\n",
    "    #split data\n",
    "    X_train, X_test, Y_train, Y_test = train_test_split(X, Y, test_size=0.1)\n",
    "    Xwave_train, Xwave_test, Ywave_train, Ywave_test = train_test_split(Xwave, Ywave, test_size=0.1)\n",
    "    #create n train model\n",
    "    clf = tree.DecisionTreeClassifier()\n",
    "    clfwave = tree.DecisionTreeClassifier()\n",
    "    \n",
    "    #features and labels\n",
    "    clf.fit(X_train,Y_train)\n",
    "    clfwave.fit(Xwave_train,Ywave_train)\n",
    "    \n",
    "    Y_predTest = clf.predict(X_test)\n",
    "    Ywave_predTest = clfwave.predict(Xwave_test)\n",
    "    \n",
    "    testAccd.append(accuracy_score(Y_test, Y_predTest))\n",
    "    testfd.append(f1_score(Y_test, Y_predTest, average='weighted'))\n",
    "    testpd.append(precision_score(Y_test, Y_predTest,average= 'weighted'))\n",
    "\n",
    "    testAccwaved.append(accuracy_score(Ywave_test, Ywave_predTest))\n",
    "    testfwaved.append(f1_score(Ywave_test, Ywave_predTest, average='weighted'))\n",
    "    testpwaved.append(precision_score(Ywave_test, Ywave_predTest,average= 'weighted'))"
   ]
  },
  {
   "cell_type": "code",
   "execution_count": 10,
   "id": "347e477b",
   "metadata": {},
   "outputs": [],
   "source": [
    "finalAccC = np.mean(testAcc)\n",
    "finalAccwaveC = np.mean(testAccwave)\n",
    "\n",
    "finalfdC = np.mean(testf)\n",
    "finalfdwaveC = np.mean(testfwave)\n",
    "\n",
    "finalpC = np.mean(testp)\n",
    "finalpwaveC = np.mean(testpwave)"
   ]
  },
  {
   "cell_type": "code",
   "execution_count": 12,
   "id": "5e9bd24b",
   "metadata": {},
   "outputs": [],
   "source": [
    "finalAcc = np.mean(testAccd)\n",
    "finalAccwave = np.mean(testAccwaved)\n",
    "\n",
    "finalfd = np.mean(testfd)\n",
    "finalfdwave = np.mean(testfwaved)\n",
    "\n",
    "finalp = np.mean(testpd)\n",
    "finalpwave = np.mean(testpwaved)"
   ]
  },
  {
   "cell_type": "markdown",
   "id": "9bead7c0",
   "metadata": {},
   "source": [
    "## Compare"
   ]
  },
  {
   "cell_type": "code",
   "execution_count": 18,
   "id": "9e90efa0",
   "metadata": {},
   "outputs": [
    {
     "data": {
      "text/plain": [
       "Text(0.5, 1.0, 'German Data, Test Averages, Knn')"
      ]
     },
     "execution_count": 18,
     "metadata": {},
     "output_type": "execute_result"
    },
    {
     "data": {
      "image/png": "[encoded data removed]",
      "text/plain": [
       "<Figure size 432x288 with 1 Axes>"
      ]
     },
     "metadata": {
      "needs_background": "light"
     },
     "output_type": "display_data"
    }
   ],
   "source": [
    "objects = ('F-Measure', 'Accuracy', 'Percison')\n",
    "y_pos = np.arange(len(objects))\n",
    "performance = [finalfdC,finalAccC,finalpC]\n",
    "\n",
    "pl.bar(y_pos, performance, align='center', alpha=0.5)\n",
    "pl.xticks(y_pos, objects)\n",
    "pl.ylabel('Averages of Test')\n",
    "pl.title('German Data, Test Averages, Knn')"
   ]
  },
  {
   "cell_type": "code",
   "execution_count": 21,
   "id": "b604a188",
   "metadata": {},
   "outputs": [
    {
     "data": {
      "text/plain": [
       "Text(0.5, 1.0, 'German Data, Test Averages, Default')"
      ]
     },
     "execution_count": 21,
     "metadata": {},
     "output_type": "execute_result"
    },
    {
     "data": {
      "image/png": "[encoded data removed]",
      "text/plain": [
       "<Figure size 432x288 with 1 Axes>"
      ]
     },
     "metadata": {
      "needs_background": "light"
     },
     "output_type": "display_data"
    }
   ],
   "source": [
    "objects = ('F-Measure', 'Accuracy', 'Percison')\n",
    "y_pos = np.arange(len(objects))\n",
    "performance = [finalfd, finalAcc, finalp]\n",
    "\n",
    "pl.bar(y_pos, performance, align='center', alpha=0.5)\n",
    "pl.xticks(y_pos, objects)\n",
    "pl.ylabel('Averages of Test')\n",
    "pl.title('German Data, Test Averages, Default')"
   ]
  },
  {
   "cell_type": "code",
   "execution_count": 22,
   "id": "6ffa04b1",
   "metadata": {},
   "outputs": [
    {
     "data": {
      "text/plain": [
       "Text(0.5, 1.0, 'Wave Data, Test Averages, knn')"
      ]
     },
     "execution_count": 22,
     "metadata": {},
     "output_type": "execute_result"
    },
    {
     "data": {
      "image/png": "[encoded data removed]",
      "text/plain": [
       "<Figure size 432x288 with 1 Axes>"
      ]
     },
     "metadata": {
      "needs_background": "light"
     },
     "output_type": "display_data"
    }
   ],
   "source": [
    "objects = ('F-Measure', 'Accuracy', 'Percison')\n",
    "y_pos = np.arange(len(objects))\n",
    "performance = [finalfdwaveC,finalAccwaveC,finalpwaveC]\n",
    "\n",
    "pl.bar(y_pos, performance, align='center', alpha=0.5)\n",
    "pl.xticks(y_pos, objects)\n",
    "pl.ylabel('Averages of Test')\n",
    "pl.title('Wave Data, Test Averages, knn')"
   ]
  },
  {
   "cell_type": "code",
   "execution_count": 23,
   "id": "16b89ed6",
   "metadata": {},
   "outputs": [
    {
     "data": {
      "text/plain": [
       "Text(0.5, 1.0, 'Wave Data, Test Averages, Default')"
      ]
     },
     "execution_count": 23,
     "metadata": {},
     "output_type": "execute_result"
    },
    {
     "data": {
      "image/png": "[encoded data removed]",
      "text/plain": [
       "<Figure size 432x288 with 1 Axes>"
      ]
     },
     "metadata": {
      "needs_background": "light"
     },
     "output_type": "display_data"
    }
   ],
   "source": [
    "objects = ('F-Measure', 'Accuracy', 'Percison')\n",
    "y_pos = np.arange(len(objects))\n",
    "performance = [finalfdwave, finalAccwave, finalpwave]\n",
    "\n",
    "pl.bar(y_pos, performance, align='center', alpha=0.5)\n",
    "pl.xticks(y_pos, objects)\n",
    "pl.ylabel('Averages of Test')\n",
    "pl.title('Wave Data, Test Averages, Default')"
   ]
  },
  {
   "cell_type": "code",
   "execution_count": 17,
   "id": "440ab804",
   "metadata": {},
   "outputs": [],
   "source": [
    "numNeighbors = [1, 5, 10, 15, 20, 25, 30]\n",
    "for k in numNeighbors:\n",
    "    clf = KNeighborsClassifier(n_neighbors=k, metric='minkowski', p=2)\n",
    "    clf.fit(X_train, Y_train)\n",
    "    Y_predTest = clf.predict(X_test)\n",
    "    testAcc.append(accuracy_score(Y_test, Y_predTest))"
   ]
  },
  {
   "cell_type": "code",
   "execution_count": null,
   "id": "da54f459",
   "metadata": {},
   "outputs": [],
   "source": []
  }
 ],
 "metadata": {
  "kernelspec": {
   "display_name": "Python 3 (ipykernel)",
   "language": "python",
   "name": "python3"
  },
  "language_info": {
   "codemirror_mode": {
    "name": "ipython",
    "version": 3
   },
   "file_extension": ".py",
   "mimetype": "text/x-python",
   "name": "python",
   "nbconvert_exporter": "python",
   "pygments_lexer": "ipython3",
   "version": "3.9.12"
  }
 },
 "nbformat": 4,
 "nbformat_minor": 5
}
